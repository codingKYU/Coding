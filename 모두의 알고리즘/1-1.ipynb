{
 "cells": [
  {
   "cell_type": "markdown",
   "metadata": {},
   "source": [
    "## 1부터 n까지 연속한 숫자의 합 알고리즘"
   ]
  },
  {
   "cell_type": "code",
   "execution_count": 4,
   "metadata": {},
   "outputs": [
    {
     "name": "stdout",
     "output_type": "stream",
     "text": [
      "55\n",
      "5050\n"
     ]
    }
   ],
   "source": [
    "def sum_n(n):\n",
    "    tot = 0\n",
    "    for i in range(1,n+1):\n",
    "        tot = tot + i\n",
    "    \n",
    "    return tot\n",
    "\n",
    "print(sum_n(10))\n",
    "print(sum_n(100))"
   ]
  },
  {
   "cell_type": "markdown",
   "metadata": {},
   "source": [
    "## 1부터 n까지 연속한 숫자의 합 알고리즘(2)"
   ]
  },
  {
   "cell_type": "code",
   "execution_count": 6,
   "metadata": {},
   "outputs": [
    {
     "name": "stdout",
     "output_type": "stream",
     "text": [
      "55\n"
     ]
    }
   ],
   "source": [
    "def sum_n(n):\n",
    "    tot = n * (n+1) // 2\n",
    "    \n",
    "    return tot\n",
    "\n",
    "print(sum_n(10))"
   ]
  },
  {
   "cell_type": "markdown",
   "metadata": {},
   "source": [
    "두번째 방법이 계산량을 고려하였을 때, 더 좋은 알고리즘이다.\n",
    "\n",
    "(알고리즘을 짤 때, for문은 될 수 있으면 배제하자)"
   ]
  },
  {
   "cell_type": "markdown",
   "metadata": {},
   "source": [
    "## 계산 복잡도"
   ]
  },
  {
   "cell_type": "markdown",
   "metadata": {},
   "source": [
    "O(n)이라고 표기됨. (빅 오 표기법)\n",
    "\n",
    "입력 : n 일때, 입력 크기 n과 필요한 계산 횟수와의 관계에 주목한 알고리즘의 성능 표기법.\n",
    "\n",
    "예시 1\n",
    "\n",
    "만약 입력 크기 n에 대해서 n번 사칙연산을 해야한다면, O(n)이라고 표기.\n",
    "\n",
    "--> n에 1배 정비례하는 관계이기 때문\n",
    "\n",
    "예시 2 \n",
    "\n",
    "만약 입력 크기 n에 대해서 2n번 사칙연산을 해야한다면, O(n)이라고 표기.\n",
    "\n",
    "--> 입력의 크기가 2배가 된다면, 사칙연산의 횟수도 2배가 됨. 그렇기 때문에 n으로 표기. 보통 정비례하면 보통 O(n)으로 표기\n",
    "\n",
    "예시 3 \n",
    "\n",
    "만약 입력 크기 n에 대해서 3번의 사칙연산을 해야한다면, O(1)이라고 표기.\n",
    "\n",
    "--> 예시 2와 같은 이유로, 입력의 크기가 커져도 계산 시간이 늘어나지 않기 때문에 O(1)로 표기"
   ]
  },
  {
   "cell_type": "markdown",
   "metadata": {},
   "source": [
    "## 연습문제 "
   ]
  },
  {
   "cell_type": "markdown",
   "metadata": {},
   "source": [
    "### 1-1"
   ]
  },
  {
   "cell_type": "code",
   "execution_count": 7,
   "metadata": {},
   "outputs": [],
   "source": [
    "def sq_n(n):\n",
    "    tot = 0\n",
    "    for i in range(1,n+1):\n",
    "        tot = tot + (i*i)\n",
    "    \n",
    "    return tot"
   ]
  },
  {
   "cell_type": "code",
   "execution_count": 8,
   "metadata": {},
   "outputs": [
    {
     "data": {
      "text/plain": [
       "385"
      ]
     },
     "execution_count": 8,
     "metadata": {},
     "output_type": "execute_result"
    }
   ],
   "source": [
    "sq_n(10)"
   ]
  },
  {
   "cell_type": "markdown",
   "metadata": {},
   "source": [
    "### 1-2\n",
    "\n",
    "1-1은 입력값 n에 대해서 제곱 한번, 덧셈 한번이 이뤄지므로 O(n)의 계산 복잡도를 갖는다"
   ]
  },
  {
   "cell_type": "markdown",
   "metadata": {},
   "source": [
    "### 1-3"
   ]
  },
  {
   "cell_type": "code",
   "execution_count": 13,
   "metadata": {},
   "outputs": [],
   "source": [
    "def sq_n(n):\n",
    "    tot = n * (n+1) * (2*n+1) // 6\n",
    "    \n",
    "    return tot"
   ]
  },
  {
   "cell_type": "code",
   "execution_count": 14,
   "metadata": {},
   "outputs": [
    {
     "data": {
      "text/plain": [
       "385"
      ]
     },
     "execution_count": 14,
     "metadata": {},
     "output_type": "execute_result"
    }
   ],
   "source": [
    "sq_n(10)"
   ]
  },
  {
   "cell_type": "markdown",
   "metadata": {},
   "source": [
    "1-3은 입력값 n에 대해서 항상 6번의 사칙연산을 거치므로, O(1)"
   ]
  }
 ],
 "metadata": {
  "kernelspec": {
   "display_name": "Python 3",
   "language": "python",
   "name": "python3"
  },
  "language_info": {
   "codemirror_mode": {
    "name": "ipython",
    "version": 3
   },
   "file_extension": ".py",
   "mimetype": "text/x-python",
   "name": "python",
   "nbconvert_exporter": "python",
   "pygments_lexer": "ipython3",
   "version": "3.7.6"
  }
 },
 "nbformat": 4,
 "nbformat_minor": 4
}
