{
 "cells": [
  {
   "cell_type": "markdown",
   "metadata": {},
   "source": [
    "## 동명이인 찾기"
   ]
  },
  {
   "cell_type": "code",
   "execution_count": 5,
   "metadata": {},
   "outputs": [],
   "source": [
    "def same_name(x):\n",
    "    names = set(x)\n",
    "    same = []\n",
    "    length = len(x)\n",
    "    for i in names:\n",
    "        a = 0\n",
    "        for n in range(length):\n",
    "            if x[n] == i:\n",
    "                a = a + 1\n",
    "        if a > 1:\n",
    "            same.append(i)\n",
    "    \n",
    "    return same"
   ]
  },
  {
   "cell_type": "code",
   "execution_count": 7,
   "metadata": {},
   "outputs": [
    {
     "data": {
      "text/plain": [
       "['Mike', 'Kane']"
      ]
     },
     "execution_count": 7,
     "metadata": {},
     "output_type": "execute_result"
    }
   ],
   "source": [
    "name = ['Tom','Mike','Jerry','Kane','Kane','Mike']\n",
    "\n",
    "same_name(name)"
   ]
  },
  {
   "cell_type": "markdown",
   "metadata": {},
   "source": [
    "위 알고리즘의 시간 복잡도 : O(n*n)"
   ]
  },
  {
   "cell_type": "markdown",
   "metadata": {},
   "source": [
    "## 두명으로 짝짓기"
   ]
  },
  {
   "cell_type": "code",
   "execution_count": 11,
   "metadata": {},
   "outputs": [],
   "source": [
    "def select_group(x):\n",
    "    n = len(x)\n",
    "    for i in range(0,n-1):\n",
    "        for k in range(i+1,n):\n",
    "            print(x[i],x[k])"
   ]
  },
  {
   "cell_type": "code",
   "execution_count": 12,
   "metadata": {},
   "outputs": [],
   "source": [
    "name = ['Tom','Mike','Jerry','Kane']"
   ]
  },
  {
   "cell_type": "code",
   "execution_count": 13,
   "metadata": {},
   "outputs": [
    {
     "name": "stdout",
     "output_type": "stream",
     "text": [
      "Tom Mike\n",
      "Tom Jerry\n",
      "Tom Kane\n",
      "Mike Jerry\n",
      "Mike Kane\n",
      "Jerry Kane\n"
     ]
    }
   ],
   "source": [
    "select_group(name)"
   ]
  },
  {
   "cell_type": "code",
   "execution_count": null,
   "metadata": {},
   "outputs": [],
   "source": []
  }
 ],
 "metadata": {
  "kernelspec": {
   "display_name": "Python 3",
   "language": "python",
   "name": "python3"
  },
  "language_info": {
   "codemirror_mode": {
    "name": "ipython",
    "version": 3
   },
   "file_extension": ".py",
   "mimetype": "text/x-python",
   "name": "python",
   "nbconvert_exporter": "python",
   "pygments_lexer": "ipython3",
   "version": "3.7.6"
  }
 },
 "nbformat": 4,
 "nbformat_minor": 4
}
