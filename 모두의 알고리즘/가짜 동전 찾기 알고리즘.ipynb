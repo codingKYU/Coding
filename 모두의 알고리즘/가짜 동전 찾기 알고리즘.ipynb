{
 "cells": [
  {
   "cell_type": "markdown",
   "metadata": {},
   "source": [
    "### 가짜 동전 찾기 알고리즘"
   ]
  },
  {
   "cell_type": "code",
   "execution_count": 1,
   "metadata": {},
   "outputs": [],
   "source": [
    "#0~n-1까지 순차적으로 모두 해보기\n",
    "def weight(coin):\n",
    "    n = len(coin)\n",
    "    if (coin[0] != coin[1]) & (coin[1] == coin[2]):\n",
    "        return 0\n",
    "    standard = coin[0]\n",
    "    for i in range(1,n):\n",
    "        if standard != coin[i]:\n",
    "            return i"
   ]
  },
  {
   "cell_type": "code",
   "execution_count": 2,
   "metadata": {},
   "outputs": [],
   "source": [
    "def weigh(a,b,c,d):\n",
    "    fake = 29\n",
    "    if a <= fake and fake <= b:\n",
    "        return -1\n",
    "    if c <= fake and fake <= d:\n",
    "        return 1\n",
    "    return 0\n",
    "\n",
    "def find_fakecoin(left,right):\n",
    "    for i in range(left + 1, right +1):\n",
    "        result = weigh(left,left,i,i)\n",
    "        if result == -1:\n",
    "            return left\n",
    "        elif result == 1:\n",
    "            return i\n",
    "        \n",
    "    return -1"
   ]
  },
  {
   "cell_type": "code",
   "execution_count": 3,
   "metadata": {},
   "outputs": [
    {
     "data": {
      "text/plain": [
       "29"
      ]
     },
     "execution_count": 3,
     "metadata": {},
     "output_type": "execute_result"
    }
   ],
   "source": [
    "n = 100\n",
    "find_fakecoin(0,n-1)"
   ]
  },
  {
   "cell_type": "code",
   "execution_count": 6,
   "metadata": {},
   "outputs": [],
   "source": [
    "#코인을 두 그룹으로 나누어 찾는 알고리즘\n",
    "def weigh(a,b,c,d):\n",
    "    fake = 29\n",
    "    if a <= fake and fake <= b:\n",
    "        return -1\n",
    "    if c <= fake and fake <= d:\n",
    "        return 1\n",
    "    return 0\n",
    "\n",
    "def find_fakecoin(left,right):\n",
    "    if left == right:\n",
    "        return left\n",
    "    half = (right - left) //2\n",
    "    g1_left = left\n",
    "    g1_right = left + half - 1\n",
    "    g2_left = left + half \n",
    "    g2_right = g2_left + half - 1\n",
    "    \n",
    "    result = weigh(g1_left,g1_right,g2_left,g2_right)\n",
    "    if result == -1:\n",
    "        return find_fakecoin(g1_left,g1_right)\n",
    "    elif result == 1:\n",
    "        return find_fakecoin(g2_left,g2_right)\n",
    "    else:\n",
    "        return right\n",
    "        "
   ]
  },
  {
   "cell_type": "code",
   "execution_count": 7,
   "metadata": {},
   "outputs": [
    {
     "data": {
      "text/plain": [
       "30"
      ]
     },
     "execution_count": 7,
     "metadata": {},
     "output_type": "execute_result"
    }
   ],
   "source": [
    "n = 100\n",
    "\n",
    "find_fakecoin(0,n-1)"
   ]
  }
 ],
 "metadata": {
  "kernelspec": {
   "display_name": "Python 3",
   "language": "python",
   "name": "python3"
  },
  "language_info": {
   "codemirror_mode": {
    "name": "ipython",
    "version": 3
   },
   "file_extension": ".py",
   "mimetype": "text/x-python",
   "name": "python",
   "nbconvert_exporter": "python",
   "pygments_lexer": "ipython3",
   "version": "3.7.6"
  }
 },
 "nbformat": 4,
 "nbformat_minor": 4
}
