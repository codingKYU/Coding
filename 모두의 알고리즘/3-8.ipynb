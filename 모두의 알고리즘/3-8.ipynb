{
 "cells": [
  {
   "cell_type": "markdown",
   "metadata": {},
   "source": [
    "### 이분탐색\n",
    "\n",
    "정렬되어있는 리스트를 반으로 나누어 값이 존재할 것 같은 부분에만 서치를 진행하는 것이다."
   ]
  },
  {
   "cell_type": "code",
   "execution_count": 58,
   "metadata": {},
   "outputs": [],
   "source": [
    "def binary_search(a,x):\n",
    "    start = 0\n",
    "    end = len(a) - 1\n",
    "    \n",
    "    while start <= end:\n",
    "        mid = (start + end) // 2\n",
    "        if x==a[mid]:\n",
    "            return mid\n",
    "        if x <= a[mid]:\n",
    "            end -= 1\n",
    "        if x > a[mid]:\n",
    "            start += 1\n",
    "        \n",
    "    return -1"
   ]
  },
  {
   "cell_type": "code",
   "execution_count": 85,
   "metadata": {},
   "outputs": [],
   "source": [
    "nums = [1,4,9,16,25,36,49,64,81]"
   ]
  },
  {
   "cell_type": "code",
   "execution_count": 86,
   "metadata": {},
   "outputs": [
    {
     "name": "stdout",
     "output_type": "stream",
     "text": [
      "5\n"
     ]
    }
   ],
   "source": [
    "print(binary_search(nums,36))"
   ]
  },
  {
   "cell_type": "markdown",
   "metadata": {},
   "source": [
    "##### 시간 복잡도\n",
    "\n",
    "O(logn)으로 매우 효율적인 것을 확인할 수 있다. 물론 리스트가 정렬되어있어야 한다는 조건이 붙지만, 그것을 상쇄시킬정도로 효율적인 알고리즘이다."
   ]
  },
  {
   "cell_type": "code",
   "execution_count": 84,
   "metadata": {},
   "outputs": [],
   "source": [
    "def binary_search_sub(a,x,start,end):\n",
    "    mid = (start+end) // 2 - 1\n",
    "    \n",
    "    if end - start < 1:\n",
    "        return -1\n",
    "    \n",
    "    if a[mid] == x:\n",
    "        return mid\n",
    "    elif a[mid] < x:\n",
    "        return binary_search_sub(a,x,mid + 1, end)\n",
    "    elif a[mid] > x:\n",
    "        return binary_search_sub(a,x,start,mid-1)\n",
    "        \n",
    "    return -1\n",
    "\n",
    "def binary_search(a,x):\n",
    "    return binary_search_sub(a,x,0,len(a)-1)"
   ]
  },
  {
   "cell_type": "markdown",
   "metadata": {},
   "source": [
    "### 시간복잡도 비교\n",
    "\n",
    "1. O(1) : 1~n까지의 합 (계산공식 이용 ver)\n",
    "\n",
    "2. O(logn) : 이분탐색\n",
    "\n",
    "3. O(n) : 최댓값 찾기, 순차 탐색\n",
    "\n",
    "4. O(nlogn) : 병합 정렬, 퀵 정렬\n",
    "\n",
    "5. O(n^2) : 선택 정렬, 삽입 정렬\n",
    "\n",
    "6. O(2^n) : 하노이의 탑"
   ]
  },
  {
   "cell_type": "code",
   "execution_count": null,
   "metadata": {},
   "outputs": [],
   "source": []
  }
 ],
 "metadata": {
  "kernelspec": {
   "display_name": "Python 3",
   "language": "python",
   "name": "python3"
  },
  "language_info": {
   "codemirror_mode": {
    "name": "ipython",
    "version": 3
   },
   "file_extension": ".py",
   "mimetype": "text/x-python",
   "name": "python",
   "nbconvert_exporter": "python",
   "pygments_lexer": "ipython3",
   "version": "3.7.6"
  }
 },
 "nbformat": 4,
 "nbformat_minor": 4
}
