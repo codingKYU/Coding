{
 "cells": [
  {
   "cell_type": "markdown",
   "metadata": {},
   "source": [
    "### 퀵 정렬"
   ]
  },
  {
   "cell_type": "code",
   "execution_count": 1,
   "metadata": {},
   "outputs": [],
   "source": [
    "# 쉽게 구현한 퀵 정렬\n",
    "\n",
    "def quick_sort(x):\n",
    "    n = len(x)\n",
    "    \n",
    "    if n <1:\n",
    "        return x\n",
    "\n",
    "    pivot = x[-1]\n",
    "    g1 = []\n",
    "    g2 = []\n",
    "    \n",
    "    for i in range(0,n-1):\n",
    "        if x[i] > pivot:\n",
    "            g2.append(x[i])\n",
    "        else:\n",
    "            g1.append(x[i])\n",
    "    \n",
    "    return quick_sort(g1) + [pivot] + quick_sort(g2)"
   ]
  },
  {
   "cell_type": "code",
   "execution_count": 2,
   "metadata": {},
   "outputs": [],
   "source": [
    "v =[6,8,3,9,10,1,2,4,7,5]"
   ]
  },
  {
   "cell_type": "code",
   "execution_count": 3,
   "metadata": {},
   "outputs": [
    {
     "data": {
      "text/plain": [
       "[1, 2, 3, 4, 5, 6, 7, 8, 9, 10]"
      ]
     },
     "execution_count": 3,
     "metadata": {},
     "output_type": "execute_result"
    }
   ],
   "source": [
    "quick_sort(v)"
   ]
  },
  {
   "cell_type": "code",
   "execution_count": 4,
   "metadata": {},
   "outputs": [],
   "source": [
    "# 일반적인 퀵 정렬\n",
    "\n",
    "def quick_sort_sub(x,start,end):\n",
    "    if end - start <= 0:\n",
    "        return x\n",
    "    \n",
    "    pivot = x[end]\n",
    "    i = start\n",
    "    for j in range(start,end):\n",
    "        if x[j] <= pivot:\n",
    "            x[i],x[j] = x[j],x[i]\n",
    "            i += 1\n",
    "    x[i],x[end] = x[end], x[i]\n",
    "    \n",
    "    quick_sort_sub(x,start,i-1)\n",
    "    quick_sort_sub(x,i+1,end)"
   ]
  },
  {
   "cell_type": "code",
   "execution_count": 5,
   "metadata": {},
   "outputs": [],
   "source": [
    "def quick_sort(x):\n",
    "    quick_sort_sub(x,0,len(x)-1)"
   ]
  },
  {
   "cell_type": "code",
   "execution_count": 6,
   "metadata": {},
   "outputs": [],
   "source": [
    "d = [6,8,3,9,10,1,2,4,7,5]"
   ]
  },
  {
   "cell_type": "code",
   "execution_count": 8,
   "metadata": {},
   "outputs": [
    {
     "name": "stdout",
     "output_type": "stream",
     "text": [
      "None\n"
     ]
    }
   ],
   "source": [
    "quick_sort(d)"
   ]
  },
  {
   "cell_type": "code",
   "execution_count": 9,
   "metadata": {},
   "outputs": [
    {
     "data": {
      "text/plain": [
       "[1, 2, 3, 4, 5, 6, 7, 8, 9, 10]"
      ]
     },
     "execution_count": 9,
     "metadata": {},
     "output_type": "execute_result"
    }
   ],
   "source": [
    "d"
   ]
  },
  {
   "cell_type": "markdown",
   "metadata": {},
   "source": [
    "### 알고리즘 분석\n",
    "\n",
    "퀵 정렬은 병합 정렬과 마찬가지로 시간 복잡도가 최악의 경우 O(n^2), 평균적으로 O(log2(밑)n)이다."
   ]
  },
  {
   "cell_type": "code",
   "execution_count": null,
   "metadata": {},
   "outputs": [],
   "source": []
  }
 ],
 "metadata": {
  "kernelspec": {
   "display_name": "Python 3",
   "language": "python",
   "name": "python3"
  },
  "language_info": {
   "codemirror_mode": {
    "name": "ipython",
    "version": 3
   },
   "file_extension": ".py",
   "mimetype": "text/x-python",
   "name": "python",
   "nbconvert_exporter": "python",
   "pygments_lexer": "ipython3",
   "version": "3.7.6"
  }
 },
 "nbformat": 4,
 "nbformat_minor": 4
}
