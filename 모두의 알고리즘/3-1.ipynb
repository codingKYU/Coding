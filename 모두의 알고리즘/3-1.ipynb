{
 "cells": [
  {
   "cell_type": "markdown",
   "metadata": {},
   "source": [
    "### 순차 탐색"
   ]
  },
  {
   "cell_type": "code",
   "execution_count": 8,
   "metadata": {},
   "outputs": [],
   "source": [
    "import sys\n",
    "\n",
    "def find_num(x,li):\n",
    "    n = len(li)\n",
    "    if x not in li:\n",
    "        print(-1)\n",
    "    for i in range(n):\n",
    "        if x == li[i]:\n",
    "            print(i)"
   ]
  },
  {
   "cell_type": "code",
   "execution_count": 9,
   "metadata": {},
   "outputs": [
    {
     "name": "stdout",
     "output_type": "stream",
     "text": [
      "-1\n"
     ]
    }
   ],
   "source": [
    "v = [17,92,18,33,58,5,33]\n",
    "\n",
    "find_num(90,v)"
   ]
  },
  {
   "cell_type": "markdown",
   "metadata": {},
   "source": [
    "위와 같은 순차 탐색 알고리즘의 경우, 시간 복잡도는 원하는 값의 위치에 따라 달라진다. 이러한 특정 때문에 최대,최소 시간 복잡도를 나누어 계산한다.\n",
    "\n",
    "big-O에서는 시간 복잡도의 최대값으로 설정하여 구한다.(보수적)\n",
    "\n",
    "이렇게 순차 탐색은 매우 큰 시간을 요하기 때문에 실재로는 정렬을 통해서 이런 과정을 줄여준다."
   ]
  },
  {
   "cell_type": "code",
   "execution_count": 10,
   "metadata": {},
   "outputs": [],
   "source": [
    "# 7-1. 찾는 값의 모든 위치를 리스트로 돌려주는 탐색 알고리즘 구현하기. 찾는 값이 리스트에 없다면 [] 반환\n",
    "\n",
    "def find_nums(l,x):\n",
    "    a = []\n",
    "    for i in range(len(l)):\n",
    "        if x == l[i]:\n",
    "            a.append(i)\n",
    "    return a"
   ]
  },
  {
   "cell_type": "code",
   "execution_count": 12,
   "metadata": {},
   "outputs": [
    {
     "data": {
      "text/plain": [
       "[3, 6]"
      ]
     },
     "execution_count": 12,
     "metadata": {},
     "output_type": "execute_result"
    }
   ],
   "source": [
    "find_nums(v,33)"
   ]
  },
  {
   "cell_type": "markdown",
   "metadata": {},
   "source": [
    "##### 7-2. 7-1의 계산 복잡도는?\n",
    "\n",
    ": O(n)"
   ]
  },
  {
   "cell_type": "code",
   "execution_count": 16,
   "metadata": {},
   "outputs": [],
   "source": [
    "# 7-3. 학생 번호와 이름을 반환하는 함수 구현하기. 없다면 ? 반환\n",
    "\n",
    "stu_no = [39,14,67,105]\n",
    "stu_name = ['Justin','John','Mike','Summer']\n",
    "\n",
    "def student_name(x):\n",
    "    n = len(stu_no)\n",
    "    for i in range(n):\n",
    "        if x == stu_no[i]:\n",
    "            print(i,stu_name[i])"
   ]
  },
  {
   "cell_type": "code",
   "execution_count": 18,
   "metadata": {},
   "outputs": [],
   "source": [
    "student_name(29)"
   ]
  },
  {
   "cell_type": "code",
   "execution_count": null,
   "metadata": {},
   "outputs": [],
   "source": []
  }
 ],
 "metadata": {
  "kernelspec": {
   "display_name": "Python 3",
   "language": "python",
   "name": "python3"
  },
  "language_info": {
   "codemirror_mode": {
    "name": "ipython",
    "version": 3
   },
   "file_extension": ".py",
   "mimetype": "text/x-python",
   "name": "python",
   "nbconvert_exporter": "python",
   "pygments_lexer": "ipython3",
   "version": "3.7.6"
  }
 },
 "nbformat": 4,
 "nbformat_minor": 4
}
