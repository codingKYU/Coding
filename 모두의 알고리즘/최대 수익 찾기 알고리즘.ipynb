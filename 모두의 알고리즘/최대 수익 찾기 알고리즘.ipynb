{
 "cells": [
  {
   "cell_type": "markdown",
   "metadata": {},
   "source": [
    "### 최대 수익 알고리즘"
   ]
  },
  {
   "cell_type": "code",
   "execution_count": 1,
   "metadata": {},
   "outputs": [],
   "source": [
    "stock = [10300,9600,9800,8200,7800,8300,9500,9800,10200,9500]"
   ]
  },
  {
   "cell_type": "code",
   "execution_count": 4,
   "metadata": {},
   "outputs": [],
   "source": [
    "#사고 팔수 있는 모든 경우를 생각하는 알고리즘\n",
    "def max_profit(x):\n",
    "    n = len(x)\n",
    "    profit = []\n",
    "    for i in range(n-1):\n",
    "        for j in range(1,n):\n",
    "            if x[i] >= x[j]:\n",
    "                profit.append(x[i] - x[j])\n",
    "    \n",
    "    return max(profit)"
   ]
  },
  {
   "cell_type": "code",
   "execution_count": 5,
   "metadata": {},
   "outputs": [
    {
     "data": {
      "text/plain": [
       "2500"
      ]
     },
     "execution_count": 5,
     "metadata": {},
     "output_type": "execute_result"
    }
   ],
   "source": [
    "max_profit(stock)"
   ]
  },
  {
   "cell_type": "code",
   "execution_count": 6,
   "metadata": {},
   "outputs": [],
   "source": [
    "#한번의 과정으로 1번 알고리즘 구현하기\n",
    "def max_profit(x):\n",
    "    n = len(x)\n",
    "    min_value = x[0]\n",
    "    max_value = 0\n",
    "    for i in range(n-1):\n",
    "        if x[i] < min_value:\n",
    "            min_value = x[i]\n",
    "        if x[i] - min_value > max_value:\n",
    "            max_value = x[i] - min_value\n",
    "    return max_value"
   ]
  },
  {
   "cell_type": "code",
   "execution_count": 7,
   "metadata": {},
   "outputs": [
    {
     "data": {
      "text/plain": [
       "2400"
      ]
     },
     "execution_count": 7,
     "metadata": {},
     "output_type": "execute_result"
    }
   ],
   "source": [
    "max_profit(stock)"
   ]
  },
  {
   "cell_type": "code",
   "execution_count": 11,
   "metadata": {},
   "outputs": [
    {
     "name": "stdout",
     "output_type": "stream",
     "text": [
      "100 14721 13663\n",
      "10000 15000 15000\n"
     ]
    },
    {
     "ename": "TypeError",
     "evalue": "not all arguments converted during string formatting",
     "output_type": "error",
     "traceback": [
      "\u001b[1;31m---------------------------------------------------------------------------\u001b[0m",
      "\u001b[1;31mTypeError\u001b[0m                                 Traceback (most recent call last)",
      "\u001b[1;32m<ipython-input-11-d4271b3bcee7>\u001b[0m in \u001b[0;36m<module>\u001b[1;34m\u001b[0m\n\u001b[0;32m     49\u001b[0m \u001b[1;33m\u001b[0m\u001b[0m\n\u001b[0;32m     50\u001b[0m \u001b[0mtest\u001b[0m\u001b[1;33m(\u001b[0m\u001b[1;36m100\u001b[0m\u001b[1;33m)\u001b[0m\u001b[1;33m\u001b[0m\u001b[1;33m\u001b[0m\u001b[0m\n\u001b[1;32m---> 51\u001b[1;33m \u001b[0mtest\u001b[0m\u001b[1;33m(\u001b[0m\u001b[1;36m10000\u001b[0m\u001b[1;33m)\u001b[0m\u001b[1;33m\u001b[0m\u001b[1;33m\u001b[0m\u001b[0m\n\u001b[0m",
      "\u001b[1;32m<ipython-input-11-d4271b3bcee7>\u001b[0m in \u001b[0;36mtest\u001b[1;34m(n)\u001b[0m\n\u001b[0;32m     46\u001b[0m         \u001b[0mm\u001b[0m \u001b[1;33m=\u001b[0m \u001b[0mtime_slow\u001b[0m \u001b[1;33m/\u001b[0m \u001b[0mtime_fast\u001b[0m\u001b[1;33m\u001b[0m\u001b[1;33m\u001b[0m\u001b[0m\n\u001b[0;32m     47\u001b[0m \u001b[1;33m\u001b[0m\u001b[0m\n\u001b[1;32m---> 48\u001b[1;33m         \u001b[0mprint\u001b[0m\u001b[1;33m(\u001b[0m\u001b[1;34m'%d %.5f %.2f'\u001b[0m\u001b[1;33m%\u001b[0m\u001b[1;33m(\u001b[0m\u001b[0mn\u001b[0m\u001b[1;33m,\u001b[0m\u001b[0mtime_slow\u001b[0m\u001b[1;33m,\u001b[0m\u001b[0mtime_fast\u001b[0m\u001b[1;33m,\u001b[0m\u001b[0mm\u001b[0m\u001b[1;33m)\u001b[0m\u001b[1;33m)\u001b[0m\u001b[1;33m\u001b[0m\u001b[1;33m\u001b[0m\u001b[0m\n\u001b[0m\u001b[0;32m     49\u001b[0m \u001b[1;33m\u001b[0m\u001b[0m\n\u001b[0;32m     50\u001b[0m \u001b[0mtest\u001b[0m\u001b[1;33m(\u001b[0m\u001b[1;36m100\u001b[0m\u001b[1;33m)\u001b[0m\u001b[1;33m\u001b[0m\u001b[1;33m\u001b[0m\u001b[0m\n",
      "\u001b[1;31mTypeError\u001b[0m: not all arguments converted during string formatting"
     ]
    }
   ],
   "source": [
    "#두 알고리즘의 시간 속도 비교하기\n",
    "\n",
    "import time\n",
    "import random \n",
    "\n",
    "def max_profit_slow(x):\n",
    "    n = len(x)\n",
    "    profit = []\n",
    "    for i in range(n-1):\n",
    "        for j in range(1,n):\n",
    "            if x[i] >= x[j]:\n",
    "                profit.append(x[i] - x[j])\n",
    "    \n",
    "    return max(profit)\n",
    "\n",
    "def max_profit_fast(x):\n",
    "    n = len(x)\n",
    "    min_value = x[0]\n",
    "    max_value = 0\n",
    "    for i in range(n-1):\n",
    "        if x[i] < min_value:\n",
    "            min_value = x[i]\n",
    "        if x[i] - min_value > max_value:\n",
    "            max_value = x[i] - min_value\n",
    "    return max_value\n",
    "\n",
    "def test(n):\n",
    "    a = []\n",
    "    for i in range(0,n):\n",
    "        a.append(random.randint(5000,20000))\n",
    "    \n",
    "    start = time.time()\n",
    "    mps = max_profit_slow(a)\n",
    "    end = time.time()\n",
    "    time_slow = end - start\n",
    "    \n",
    "    start = time.time()\n",
    "    mpf = max_profit_fast(a)\n",
    "    end = time.time()\n",
    "    time_fast = end - start\n",
    "    \n",
    "    print(n,mps,mpf)\n",
    "    \n",
    "    m = 0\n",
    "    if time_fast>0:\n",
    "        m = time_slow / time_fast\n",
    "        \n",
    "        print('%d %.5f %.2f'%(n,time_slow,time_fast,m))\n",
    "        \n",
    "test(100)\n",
    "test(10000)"
   ]
  },
  {
   "cell_type": "code",
   "execution_count": null,
   "metadata": {},
   "outputs": [],
   "source": []
  }
 ],
 "metadata": {
  "kernelspec": {
   "display_name": "Python 3",
   "language": "python",
   "name": "python3"
  },
  "language_info": {
   "codemirror_mode": {
    "name": "ipython",
    "version": 3
   },
   "file_extension": ".py",
   "mimetype": "text/x-python",
   "name": "python",
   "nbconvert_exporter": "python",
   "pygments_lexer": "ipython3",
   "version": "3.7.6"
  }
 },
 "nbformat": 4,
 "nbformat_minor": 4
}
