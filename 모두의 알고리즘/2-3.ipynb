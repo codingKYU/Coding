{
 "cells": [
  {
   "cell_type": "markdown",
   "metadata": {},
   "source": [
    "# 하노이의 탑"
   ]
  },
  {
   "cell_type": "code",
   "execution_count": 1,
   "metadata": {},
   "outputs": [],
   "source": [
    "def hanoi_tower(x):\n",
    "    if x == 1:\n",
    "        return 1\n",
    "    return hanoi_tower(x-1) * 2 + 1"
   ]
  },
  {
   "cell_type": "code",
   "execution_count": 2,
   "metadata": {},
   "outputs": [
    {
     "data": {
      "text/plain": [
       "3"
      ]
     },
     "execution_count": 2,
     "metadata": {},
     "output_type": "execute_result"
    }
   ],
   "source": [
    "hanoi_tower(2)"
   ]
  },
  {
   "cell_type": "code",
   "execution_count": 3,
   "metadata": {},
   "outputs": [
    {
     "data": {
      "text/plain": [
       "7"
      ]
     },
     "execution_count": 3,
     "metadata": {},
     "output_type": "execute_result"
    }
   ],
   "source": [
    "hanoi_tower(3)"
   ]
  },
  {
   "cell_type": "code",
   "execution_count": 4,
   "metadata": {},
   "outputs": [],
   "source": [
    "def hanoi_tower(x,from_pos,to_pos,aux_pos):\n",
    "    if x == 1:\n",
    "        print(from_pos,'->',to_pos)\n",
    "        return 1\n",
    "    hanoi_tower(x-1,from_pos,aux_pos,to_pos)\n",
    "    print(from_pos,'->',to_pos)\n",
    "    hanoi_tower(x-1,aux_pos,to_pos,from_pos)"
   ]
  },
  {
   "cell_type": "code",
   "execution_count": 7,
   "metadata": {},
   "outputs": [
    {
     "name": "stdout",
     "output_type": "stream",
     "text": [
      "1 -> 3\n",
      "1 -> 2\n",
      "3 -> 2\n",
      "1 -> 3\n",
      "2 -> 1\n",
      "2 -> 3\n",
      "1 -> 3\n"
     ]
    }
   ],
   "source": [
    "hanoi_tower(3,1,3,2)"
   ]
  },
  {
   "cell_type": "markdown",
   "metadata": {},
   "source": [
    "### 알고리즘 분석 \n",
    "\n",
    "입력 n에 대해서 2^n -1번 움직인다.(계산이 일어난다.) --> O(2^n)"
   ]
  },
  {
   "cell_type": "markdown",
   "metadata": {},
   "source": [
    "### 사각나선을 그리는 프로그램"
   ]
  },
  {
   "cell_type": "code",
   "execution_count": 8,
   "metadata": {},
   "outputs": [
    {
     "data": {
      "text/plain": [
       "<function turtle.mainloop()>"
      ]
     },
     "execution_count": 8,
     "metadata": {},
     "output_type": "execute_result"
    }
   ],
   "source": [
    "import turtle as t\n",
    "\n",
    "def spiral(sp_len):\n",
    "    if sp_len <= 5:\n",
    "        return\n",
    "    \n",
    "    t.forward(sp_len)\n",
    "    t.right(90)\n",
    "    spiral(sp_len - 5)\n",
    "\n",
    "t.speed(0)\n",
    "spiral(200)\n",
    "t.hideturtle()\n",
    "t.done"
   ]
  },
  {
   "cell_type": "code",
   "execution_count": null,
   "metadata": {},
   "outputs": [],
   "source": []
  }
 ],
 "metadata": {
  "kernelspec": {
   "display_name": "Python 3",
   "language": "python",
   "name": "python3"
  },
  "language_info": {
   "codemirror_mode": {
    "name": "ipython",
    "version": 3
   },
   "file_extension": ".py",
   "mimetype": "text/x-python",
   "name": "python",
   "nbconvert_exporter": "python",
   "pygments_lexer": "ipython3",
   "version": "3.7.6"
  }
 },
 "nbformat": 4,
 "nbformat_minor": 4
}
