{
 "cells": [
  {
   "cell_type": "markdown",
   "metadata": {},
   "source": [
    "## 재귀호출"
   ]
  },
  {
   "cell_type": "markdown",
   "metadata": {},
   "source": [
    "### 팩토리얼 (일반)"
   ]
  },
  {
   "cell_type": "code",
   "execution_count": 1,
   "metadata": {},
   "outputs": [],
   "source": [
    "def factorial(x):\n",
    "    a = 1\n",
    "    for i in range(1,x+1):\n",
    "        a = a * i\n",
    "        \n",
    "    return a"
   ]
  },
  {
   "cell_type": "code",
   "execution_count": 2,
   "metadata": {},
   "outputs": [
    {
     "data": {
      "text/plain": [
       "3628800"
      ]
     },
     "execution_count": 2,
     "metadata": {},
     "output_type": "execute_result"
    }
   ],
   "source": [
    "factorial(10)"
   ]
  },
  {
   "cell_type": "markdown",
   "metadata": {},
   "source": [
    "재귀 호출 프로그램을 사용할 때는 '종료 조건'이 필요하다. (그렇지 않으면 무한번 반복하다 재귀 에러가 뜬다.)"
   ]
  },
  {
   "cell_type": "markdown",
   "metadata": {},
   "source": [
    "### 팩토리얼 (재귀)"
   ]
  },
  {
   "cell_type": "code",
   "execution_count": 5,
   "metadata": {},
   "outputs": [],
   "source": [
    "def fact(x):\n",
    "    if x <= 1:\n",
    "        return 1\n",
    "    return x * fact(x-1)\n",
    "\n"
   ]
  },
  {
   "cell_type": "code",
   "execution_count": 6,
   "metadata": {},
   "outputs": [
    {
     "name": "stdout",
     "output_type": "stream",
     "text": [
      "3628800\n"
     ]
    }
   ],
   "source": [
    "print(fact(10))"
   ]
  },
  {
   "cell_type": "markdown",
   "metadata": {},
   "source": [
    "### 재귀 알고리즘 분석 (시간계산도)\n",
    "\n",
    "팩토리얼(일반)의 경우 입력값이 n 일때, n번의 곱셈을 통해 계산되므로 O(n)이다.\n",
    "\n",
    "팩토리얼(재귀)의 경우 입력값이 n 일때, n-1번의 곱셈을 통해 계산되므로 O(n)이다."
   ]
  },
  {
   "cell_type": "code",
   "execution_count": 7,
   "metadata": {},
   "outputs": [],
   "source": [
    "# 4-1. 1~n까지의 합을 재귀 호출로 만들기\n",
    "\n",
    "def sum_all(x):\n",
    "    if x <= 1:\n",
    "        return 1\n",
    "    return x + sum_all(x-1)"
   ]
  },
  {
   "cell_type": "code",
   "execution_count": 8,
   "metadata": {},
   "outputs": [
    {
     "data": {
      "text/plain": [
       "55"
      ]
     },
     "execution_count": 8,
     "metadata": {},
     "output_type": "execute_result"
    }
   ],
   "source": [
    "sum_all(10)"
   ]
  },
  {
   "cell_type": "code",
   "execution_count": 14,
   "metadata": {},
   "outputs": [],
   "source": [
    "# 4-2. n개의 숫자 중에서 최댓값 찾기\n",
    "\n",
    "def maxium(x):\n",
    "    n = len(x)\n",
    "    if n <= 2:\n",
    "        return max(x[0],x[1])\n",
    "    else: \n",
    "        if x[0] <= x[1]:\n",
    "            x.pop(0)\n",
    "        else:\n",
    "            x.pop(1)\n",
    "    return maxium(x)"
   ]
  },
  {
   "cell_type": "code",
   "execution_count": 15,
   "metadata": {},
   "outputs": [
    {
     "data": {
      "text/plain": [
       "9"
      ]
     },
     "execution_count": 15,
     "metadata": {},
     "output_type": "execute_result"
    }
   ],
   "source": [
    "a = [5,7,2,9,8]\n",
    "maxium(a)"
   ]
  },
  {
   "cell_type": "code",
   "execution_count": 16,
   "metadata": {},
   "outputs": [
    {
     "name": "stdout",
     "output_type": "stream",
     "text": [
      "92\n"
     ]
    }
   ],
   "source": [
    "def find_max(a, n):\n",
    "    if n ==1: #종료조건: 자료 값이 한 개면 그 값이 최댓값\n",
    "        return a[0]\n",
    "    max_n_1 = find_max(a, n-1) #재귀호출: 다시 스스로 자기를 부름\n",
    "    if max_n_1 > a[n-1]:           #a[n-1]:이번 차수에 나온 새로운 값과 비교\n",
    "        return max_n_1             #max_n_1: 이전에 나온 재귀함수 값\n",
    "    else:\n",
    "        return a[n - 1]\n",
    "\n",
    "v = [17, 92, 30]\n",
    "print(find_max(v, len(v)))\n"
   ]
  },
  {
   "cell_type": "code",
   "execution_count": null,
   "metadata": {},
   "outputs": [],
   "source": []
  }
 ],
 "metadata": {
  "kernelspec": {
   "display_name": "Python 3",
   "language": "python",
   "name": "python3"
  },
  "language_info": {
   "codemirror_mode": {
    "name": "ipython",
    "version": 3
   },
   "file_extension": ".py",
   "mimetype": "text/x-python",
   "name": "python",
   "nbconvert_exporter": "python",
   "pygments_lexer": "ipython3",
   "version": "3.7.6"
  }
 },
 "nbformat": 4,
 "nbformat_minor": 4
}
