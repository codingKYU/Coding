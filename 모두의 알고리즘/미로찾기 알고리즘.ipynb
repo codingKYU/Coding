{
 "cells": [
  {
   "cell_type": "markdown",
   "metadata": {},
   "source": [
    "### 미로찾기 알고리즘\n",
    "\n",
    "시작지점부터 도착지점까지 모두 알파벳으로 표현한 후에 이를 친구찾기 알고리즘을 구현한 방식으로 구현한다."
   ]
  },
  {
   "cell_type": "code",
   "execution_count": 7,
   "metadata": {},
   "outputs": [],
   "source": [
    "maze = {'a' : 'e', 'e' : 'i', 'i' : 'm', 'm' : 'n','n' : 'j', 'j' : ['f','k'], 'k' : 'o','o' : 'k','d' : 'c', 'f' : ['b','g'], 'b' : 'c', 'c' : 'd','g' : 'h','h' : 'l','l' : 'p'}\n",
    "\n",
    "def find_path(dic,start,end):\n",
    "    qu = []\n",
    "    done = set()\n",
    "    \n",
    "    qu.append(start)\n",
    "    done.add(start)\n",
    "    \n",
    "    while qu:\n",
    "        p = qu.pop(0)\n",
    "        v = p[-1]\n",
    "        if v == end:\n",
    "            return p\n",
    "        for x in dic[v]:\n",
    "            if x not in done:\n",
    "                qu.append(p+x)\n",
    "                done.add(x)\n",
    "                \n",
    "    return '?'"
   ]
  },
  {
   "cell_type": "code",
   "execution_count": 8,
   "metadata": {},
   "outputs": [
    {
     "data": {
      "text/plain": [
       "'aeimnjfghlp'"
      ]
     },
     "execution_count": 8,
     "metadata": {},
     "output_type": "execute_result"
    }
   ],
   "source": [
    "find_path(maze,'a','p')"
   ]
  },
  {
   "cell_type": "code",
   "execution_count": null,
   "metadata": {},
   "outputs": [],
   "source": []
  }
 ],
 "metadata": {
  "kernelspec": {
   "display_name": "geo_env",
   "language": "python",
   "name": "geo_env"
  },
  "language_info": {
   "codemirror_mode": {
    "name": "ipython",
    "version": 3
   },
   "file_extension": ".py",
   "mimetype": "text/x-python",
   "name": "python",
   "nbconvert_exporter": "python",
   "pygments_lexer": "ipython3",
   "version": "3.7.6"
  }
 },
 "nbformat": 4,
 "nbformat_minor": 4
}
