{
 "cells": [
  {
   "cell_type": "markdown",
   "metadata": {},
   "source": [
    "### 회문찾기 알고리즘"
   ]
  },
  {
   "cell_type": "code",
   "execution_count": 29,
   "metadata": {},
   "outputs": [],
   "source": [
    "#큐, 스택 이용\n",
    "def palindrome_search(x):\n",
    "    q = []\n",
    "    st = []\n",
    "    \n",
    "    for i in x:\n",
    "        if i.isalpha():\n",
    "            q.append(i.lower())\n",
    "            st.append(i.lower())\n",
    "    \n",
    "    while q:\n",
    "        if q.pop(0) != st.pop():\n",
    "            return 'False'\n",
    "    return 'True'"
   ]
  },
  {
   "cell_type": "code",
   "execution_count": 30,
   "metadata": {},
   "outputs": [],
   "source": [
    "d = 'Madam, I`m Adam'"
   ]
  },
  {
   "cell_type": "code",
   "execution_count": 31,
   "metadata": {},
   "outputs": [
    {
     "data": {
      "text/plain": [
       "'True'"
      ]
     },
     "execution_count": 31,
     "metadata": {},
     "output_type": "execute_result"
    }
   ],
   "source": [
    "palindrome_search(d)"
   ]
  },
  {
   "cell_type": "code",
   "execution_count": 35,
   "metadata": {},
   "outputs": [],
   "source": [
    "#큐, 슈택 사용하지 않음\n",
    "def palindrome_search(x):\n",
    "    n = len(x)\n",
    "    for i in range(n):\n",
    "        if x[i] == x[n-i-1]:\n",
    "            continue\n",
    "        else:\n",
    "            return 'False'\n",
    "    return 'True'"
   ]
  },
  {
   "cell_type": "code",
   "execution_count": 55,
   "metadata": {},
   "outputs": [],
   "source": [
    "d = 'Madam, I`m Adam'"
   ]
  },
  {
   "cell_type": "code",
   "execution_count": 56,
   "metadata": {},
   "outputs": [
    {
     "data": {
      "text/plain": [
       "'True'"
      ]
     },
     "execution_count": 56,
     "metadata": {},
     "output_type": "execute_result"
    }
   ],
   "source": [
    "palindrome_search(d)"
   ]
  },
  {
   "cell_type": "code",
   "execution_count": 54,
   "metadata": {},
   "outputs": [],
   "source": [
    "#큐, 슈택 사용하지 않음\n",
    "def palindrome_search(x):\n",
    "    i = 0\n",
    "    j = len(x) - 1\n",
    "    \n",
    "    while i < j:\n",
    "        if x[i].isalpha() == False:\n",
    "            i += 1\n",
    "        elif x[j].isalpha() == False:\n",
    "            j -= 1\n",
    "        \n",
    "        elif x[i].lower() != x[j].lower():\n",
    "            return 'False'\n",
    "        else:\n",
    "            i += 1\n",
    "            j -= 1\n",
    "    \n",
    "    return 'True'"
   ]
  },
  {
   "cell_type": "markdown",
   "metadata": {},
   "source": [
    "### 딕셔너리"
   ]
  },
  {
   "cell_type": "code",
   "execution_count": 73,
   "metadata": {},
   "outputs": [],
   "source": [
    "#딕셔너리를 이용한 동명이인 찾기\n",
    "def namesake(x):\n",
    "    name_dict = dict()\n",
    "    for name in x:\n",
    "        i = 0\n",
    "        if name in name_dict:\n",
    "            name_dict[name]+=1\n",
    "        else:\n",
    "            name_dict[name] = 1\n",
    "        \n",
    "    result = set()\n",
    "    for name in name_dict:\n",
    "        if name_dict[name] >1:\n",
    "            result.add(name)\n",
    "    \n",
    "    return result"
   ]
  },
  {
   "cell_type": "code",
   "execution_count": 74,
   "metadata": {},
   "outputs": [],
   "source": [
    "name = ['Tom','Jerry','Mike','Tom']"
   ]
  },
  {
   "cell_type": "code",
   "execution_count": 75,
   "metadata": {},
   "outputs": [
    {
     "name": "stdout",
     "output_type": "stream",
     "text": [
      "{'Tom'}\n"
     ]
    }
   ],
   "source": [
    "print(namesake(name))"
   ]
  },
  {
   "cell_type": "markdown",
   "metadata": {},
   "source": [
    "시간복잡도 : O(n)\n",
    "\n",
    "--> for문이 서로 겹치지 않고 따로 두 번 나누어져서 사용되었기 때문에 O(n)이다. 시간 복잡도를 계산할 때 for문의 겹침은 매우 중요하다."
   ]
  },
  {
   "cell_type": "code",
   "execution_count": 80,
   "metadata": {},
   "outputs": [],
   "source": [
    "#번호로 학생 이름 찾기\n",
    "def find_stu(name,nums,num):\n",
    "    stu_dict = dict()\n",
    "    \n",
    "    n1 = len(name)\n",
    "    n2 = len(nums)\n",
    "    if n1 != n2:\n",
    "        print('Wrong Input!')\n",
    "    \n",
    "    for i in range(n1):\n",
    "        a = nums[i]\n",
    "        stu_dict[a] = name[i]\n",
    "    \n",
    "    return stu_dict[num]"
   ]
  },
  {
   "cell_type": "code",
   "execution_count": 81,
   "metadata": {},
   "outputs": [],
   "source": [
    "name = ['Justin', 'John','Mike','Summer']\n",
    "nums = [39,14,67,105]"
   ]
  },
  {
   "cell_type": "code",
   "execution_count": 82,
   "metadata": {},
   "outputs": [
    {
     "data": {
      "text/plain": [
       "'Justin'"
      ]
     },
     "execution_count": 82,
     "metadata": {},
     "output_type": "execute_result"
    }
   ],
   "source": [
    "find_stu(name,nums,39)"
   ]
  },
  {
   "cell_type": "code",
   "execution_count": 86,
   "metadata": {},
   "outputs": [],
   "source": [
    "#모든 친구 찾기 알고리즘\n",
    "def find_friends(name,dic):\n",
    "    qu = []\n",
    "    done = set()\n",
    "    \n",
    "    qu.append(name)\n",
    "    done.add(name)\n",
    "    \n",
    "    while qu:\n",
    "        p = qu.pop(0)\n",
    "        print(p)\n",
    "        for x in dic[p]:\n",
    "            if x not in done:\n",
    "                qu.append(x)\n",
    "                done.add(x)\n",
    "        \n",
    "        "
   ]
  },
  {
   "cell_type": "code",
   "execution_count": 87,
   "metadata": {},
   "outputs": [],
   "source": [
    "fr_info = {'Summer' : ['John','Justin','Mike'],'John': ['Summer','Justin'],'Justin' : ['John','Summer','Mike','May'],'Mike' : ['Summer','Justin'],'May' : ['Justin','Kim'],'Tom' : ['Jerry'],'Jerry' : ['Tom']}"
   ]
  },
  {
   "cell_type": "code",
   "execution_count": 88,
   "metadata": {},
   "outputs": [
    {
     "name": "stdout",
     "output_type": "stream",
     "text": [
      "Summer\n",
      "John\n",
      "Justin\n",
      "Mike\n",
      "May\n",
      "Kim\n"
     ]
    },
    {
     "ename": "KeyError",
     "evalue": "'Kim'",
     "output_type": "error",
     "traceback": [
      "\u001b[1;31m---------------------------------------------------------------------------\u001b[0m",
      "\u001b[1;31mKeyError\u001b[0m                                  Traceback (most recent call last)",
      "\u001b[1;32m<ipython-input-88-e74f3aa8d3b6>\u001b[0m in \u001b[0;36m<module>\u001b[1;34m\u001b[0m\n\u001b[1;32m----> 1\u001b[1;33m \u001b[0mfind_friends\u001b[0m\u001b[1;33m(\u001b[0m\u001b[1;34m'Summer'\u001b[0m\u001b[1;33m,\u001b[0m\u001b[0mfr_info\u001b[0m\u001b[1;33m)\u001b[0m\u001b[1;33m\u001b[0m\u001b[1;33m\u001b[0m\u001b[0m\n\u001b[0m",
      "\u001b[1;32m<ipython-input-86-4ade3a07ed30>\u001b[0m in \u001b[0;36mfind_friends\u001b[1;34m(name, dic)\u001b[0m\n\u001b[0;32m     10\u001b[0m         \u001b[0mp\u001b[0m \u001b[1;33m=\u001b[0m \u001b[0mqu\u001b[0m\u001b[1;33m.\u001b[0m\u001b[0mpop\u001b[0m\u001b[1;33m(\u001b[0m\u001b[1;36m0\u001b[0m\u001b[1;33m)\u001b[0m\u001b[1;33m\u001b[0m\u001b[1;33m\u001b[0m\u001b[0m\n\u001b[0;32m     11\u001b[0m         \u001b[0mprint\u001b[0m\u001b[1;33m(\u001b[0m\u001b[0mp\u001b[0m\u001b[1;33m)\u001b[0m\u001b[1;33m\u001b[0m\u001b[1;33m\u001b[0m\u001b[0m\n\u001b[1;32m---> 12\u001b[1;33m         \u001b[1;32mfor\u001b[0m \u001b[0mx\u001b[0m \u001b[1;32min\u001b[0m \u001b[0mdic\u001b[0m\u001b[1;33m[\u001b[0m\u001b[0mp\u001b[0m\u001b[1;33m]\u001b[0m\u001b[1;33m:\u001b[0m\u001b[1;33m\u001b[0m\u001b[1;33m\u001b[0m\u001b[0m\n\u001b[0m\u001b[0;32m     13\u001b[0m             \u001b[1;32mif\u001b[0m \u001b[0mx\u001b[0m \u001b[1;32mnot\u001b[0m \u001b[1;32min\u001b[0m \u001b[0mdone\u001b[0m\u001b[1;33m:\u001b[0m\u001b[1;33m\u001b[0m\u001b[1;33m\u001b[0m\u001b[0m\n\u001b[0;32m     14\u001b[0m                 \u001b[0mqu\u001b[0m\u001b[1;33m.\u001b[0m\u001b[0mappend\u001b[0m\u001b[1;33m(\u001b[0m\u001b[0mx\u001b[0m\u001b[1;33m)\u001b[0m\u001b[1;33m\u001b[0m\u001b[1;33m\u001b[0m\u001b[0m\n",
      "\u001b[1;31mKeyError\u001b[0m: 'Kim'"
     ]
    }
   ],
   "source": [
    "find_friends('Summer',fr_info)"
   ]
  },
  {
   "cell_type": "code",
   "execution_count": 92,
   "metadata": {},
   "outputs": [],
   "source": [
    "#친밀도 계산 알고리즘\n",
    "def intimate_friends(name,dic):\n",
    "    qu = []\n",
    "    done = set()\n",
    "    \n",
    "    qu.append((name,0))\n",
    "    done.add(name)\n",
    "    \n",
    "    while qu:\n",
    "        (p,q) = qu.pop(0)\n",
    "        print(p,q)\n",
    "        for x in dic[p]:\n",
    "            if x not in done:\n",
    "                qu.append((x,q+1))\n",
    "                done.add(x)\n",
    "        \n",
    "        "
   ]
  },
  {
   "cell_type": "code",
   "execution_count": 95,
   "metadata": {},
   "outputs": [],
   "source": [
    "fr_info = {'Summer' : ['John','Justin','Mike'],'John': ['Summer','Justin'],'Justin' : ['John','Summer','Mike','May'],'Mike' : ['Summer','Justin'],'May' : ['Justin','Kim'],'Kim' : ['May'],'Tom' : ['Jerry'],'Jerry' : ['Tom']}"
   ]
  },
  {
   "cell_type": "code",
   "execution_count": 96,
   "metadata": {},
   "outputs": [
    {
     "name": "stdout",
     "output_type": "stream",
     "text": [
      "Summer 0\n",
      "John 1\n",
      "Justin 1\n",
      "Mike 1\n",
      "May 2\n",
      "Kim 3\n"
     ]
    }
   ],
   "source": [
    "intimate_friends('Summer',fr_info)"
   ]
  },
  {
   "cell_type": "code",
   "execution_count": 97,
   "metadata": {},
   "outputs": [],
   "source": [
    "#탐색 알고리즘\n",
    "def search_al(dic,start):\n",
    "    qu = []\n",
    "    done = set()\n",
    "    \n",
    "    qu.append(start)\n",
    "    done.add(start)\n",
    "    \n",
    "    while qu:\n",
    "        p = qu.pop(0)\n",
    "        for name in dic[p]:\n",
    "            if name not in done:\n",
    "                qu.append(name)\n",
    "                done.add(name)"
   ]
  },
  {
   "cell_type": "code",
   "execution_count": null,
   "metadata": {},
   "outputs": [],
   "source": []
  }
 ],
 "metadata": {
  "kernelspec": {
   "display_name": "Python 3",
   "language": "python",
   "name": "python3"
  },
  "language_info": {
   "codemirror_mode": {
    "name": "ipython",
    "version": 3
   },
   "file_extension": ".py",
   "mimetype": "text/x-python",
   "name": "python",
   "nbconvert_exporter": "python",
   "pygments_lexer": "ipython3",
   "version": "3.7.6"
  }
 },
 "nbformat": 4,
 "nbformat_minor": 4
}
