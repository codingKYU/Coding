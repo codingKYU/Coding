{
 "cells": [
  {
   "cell_type": "markdown",
   "metadata": {},
   "source": [
    "### 선택 정렬\n",
    "\n",
    "목록안에서 가장 작은 것을 뽑아 정렬시키는 것을 계속 반복하는 알고리즘"
   ]
  },
  {
   "cell_type": "code",
   "execution_count": 4,
   "metadata": {},
   "outputs": [],
   "source": [
    "# 쉽게 설명한 선택 정렬 알고리즘\n",
    "\n",
    "def find_least(x):\n",
    "    n = len(x)\n",
    "    least = x[0]\n",
    "    for i in range(1,n):\n",
    "        if least > x[i]:\n",
    "            least = x[i]\n",
    "    \n",
    "    return least\n",
    "\n",
    "def sel_sort(x):\n",
    "    new = []\n",
    "    n = len(x)\n",
    "    while x:\n",
    "        least = find_least(x)\n",
    "        new.append(least)\n",
    "        x.remove(least)\n",
    "\n",
    "    return new"
   ]
  },
  {
   "cell_type": "code",
   "execution_count": 13,
   "metadata": {},
   "outputs": [],
   "source": [
    "v = [2,4,5,1,3]"
   ]
  },
  {
   "cell_type": "code",
   "execution_count": 6,
   "metadata": {},
   "outputs": [
    {
     "data": {
      "text/plain": [
       "[1, 2, 3, 4, 5]"
      ]
     },
     "execution_count": 6,
     "metadata": {},
     "output_type": "execute_result"
    }
   ],
   "source": [
    "sel_sort(v)"
   ]
  },
  {
   "cell_type": "code",
   "execution_count": 7,
   "metadata": {},
   "outputs": [],
   "source": [
    "# 일반적 선택 알고리즘\n",
    "\n",
    "def sel_sort(x):\n",
    "    n = len(x)\n",
    "    for i in range(0,n-1):\n",
    "        min_idx = i\n",
    "        for j in range(i+1,n):\n",
    "            if x[min_idx] > x[j]:\n",
    "                min_idx = j\n",
    "        x[min_idx], x[i] = x[i], x[min_idx]\n",
    "    \n",
    "    return x\n",
    "        \n",
    "    "
   ]
  },
  {
   "cell_type": "code",
   "execution_count": 10,
   "metadata": {},
   "outputs": [
    {
     "data": {
      "text/plain": [
       "[1, 2, 3, 4, 5]"
      ]
     },
     "execution_count": 10,
     "metadata": {},
     "output_type": "execute_result"
    }
   ],
   "source": [
    "sel_sort(v)"
   ]
  },
  {
   "cell_type": "markdown",
   "metadata": {},
   "source": [
    "### 알고리즘 분석\n",
    "\n",
    "O(n^2)의 시간 복잡도를 갖는다.\n",
    " \n",
    "선택 정렬은 매우 자주 활용되는 알고리즘이지만, 값이 커질수록 복잡도가 높아진다는 단점을 갖고 있다."
   ]
  },
  {
   "cell_type": "markdown",
   "metadata": {},
   "source": [
    "### 연습문제"
   ]
  },
  {
   "cell_type": "markdown",
   "metadata": {},
   "source": [
    "#### 일반적인 선택 정렬 알고리즘을 사용해 [2,4,5,1,3] 리스트를 정렬하는 과정 적어보기\n",
    "\n",
    "\n",
    "\n",
    "1. 리스트의 첫번째 값인 2를 최소라고 설정한다.\n",
    "\n",
    "2. 1에서 설정한 최소값과 2번째부터 마지막 리스트를 비교한다. 만약 1에서 설정한 최솟값보다 작은 값이 존재한다면 최솟값을 갱신한다.\n",
    "\n",
    "3. 2번에서 결론적으로 나온 최솟값과 리스트의 첫번째 값의 위치를 변경한다.\n",
    "\n",
    "4. 1~3번 과정을 리스트의 두번째 값을 기준으로 반복한다."
   ]
  },
  {
   "cell_type": "code",
   "execution_count": 12,
   "metadata": {},
   "outputs": [],
   "source": [
    "# 일반적 선택 알고리즘\n",
    "\n",
    "def sel_sort(x):\n",
    "    n = len(x)\n",
    "    for i in range(0,n-1):\n",
    "        max_idx = i\n",
    "        for j in range(i+1,n):\n",
    "            if x[max_idx] < x[j]:\n",
    "                max_idx = j\n",
    "        x[max_idx], x[i] = x[i], x[max_idx]\n",
    "    \n",
    "    return x\n",
    "        \n",
    "    "
   ]
  },
  {
   "cell_type": "code",
   "execution_count": 14,
   "metadata": {},
   "outputs": [
    {
     "data": {
      "text/plain": [
       "[5, 4, 3, 2, 1]"
      ]
     },
     "execution_count": 14,
     "metadata": {},
     "output_type": "execute_result"
    }
   ],
   "source": [
    "sel_sort(v)"
   ]
  },
  {
   "cell_type": "code",
   "execution_count": null,
   "metadata": {},
   "outputs": [],
   "source": []
  }
 ],
 "metadata": {
  "kernelspec": {
   "display_name": "Python 3",
   "language": "python",
   "name": "python3"
  },
  "language_info": {
   "codemirror_mode": {
    "name": "ipython",
    "version": 3
   },
   "file_extension": ".py",
   "mimetype": "text/x-python",
   "name": "python",
   "nbconvert_exporter": "python",
   "pygments_lexer": "ipython3",
   "version": "3.7.6"
  }
 },
 "nbformat": 4,
 "nbformat_minor": 4
}
