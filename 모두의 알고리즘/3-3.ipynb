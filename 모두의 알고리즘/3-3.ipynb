{
 "cells": [
  {
   "cell_type": "markdown",
   "metadata": {},
   "source": [
    "# 삽입 정렬"
   ]
  },
  {
   "cell_type": "markdown",
   "metadata": {},
   "source": [
    "### 쉽게 설명한 삽입 정렬"
   ]
  },
  {
   "cell_type": "code",
   "execution_count": 4,
   "metadata": {},
   "outputs": [],
   "source": [
    "def find_ins_idx(x,num):\n",
    "    n = len(x)\n",
    "    for i in range(n):\n",
    "        if num < x[i]:\n",
    "            return i\n",
    "    return len(x)\n",
    "        \n",
    "def ins_sort(x):\n",
    "    result = []\n",
    "    while x:\n",
    "        value = x.pop(0)\n",
    "        ins_idx = find_ins_idx(result,value)\n",
    "        result.insert(ins_idx,value)\n",
    "    \n",
    "    return result\n",
    "        \n",
    "        "
   ]
  },
  {
   "cell_type": "code",
   "execution_count": 9,
   "metadata": {},
   "outputs": [],
   "source": [
    "d = [2,4,5,1,3]"
   ]
  },
  {
   "cell_type": "code",
   "execution_count": 6,
   "metadata": {},
   "outputs": [
    {
     "name": "stdout",
     "output_type": "stream",
     "text": [
      "[1, 2, 3, 4, 5]\n"
     ]
    }
   ],
   "source": [
    "print(ins_sort(d))"
   ]
  },
  {
   "cell_type": "markdown",
   "metadata": {},
   "source": [
    "### 일반적인 삽입 정렬 : 직접 위치 바꾸기"
   ]
  },
  {
   "cell_type": "code",
   "execution_count": 7,
   "metadata": {},
   "outputs": [],
   "source": [
    "def ins_sort(x):\n",
    "    n = len(x)\n",
    "    for i in range(1,n):\n",
    "        key = x[i]\n",
    "        j = i - 1\n",
    "        while j>=0 and x[j] > key:\n",
    "            x[j+1] = x[j]\n",
    "            j -= 1\n",
    "        x[j+1] = key"
   ]
  },
  {
   "cell_type": "code",
   "execution_count": 10,
   "metadata": {},
   "outputs": [
    {
     "name": "stdout",
     "output_type": "stream",
     "text": [
      "[1, 2, 3, 4, 5]\n"
     ]
    }
   ],
   "source": [
    "ins_sort(d)\n",
    "\n",
    "print(d)"
   ]
  },
  {
   "cell_type": "markdown",
   "metadata": {},
   "source": [
    "일반적인 삽입 정렬의 시간 복잡도 : O(n^2)"
   ]
  },
  {
   "cell_type": "code",
   "execution_count": 12,
   "metadata": {},
   "outputs": [],
   "source": [
    "# 9-1. [2,4,5,1,3]을 삽입 정렬 알고리즘으로 구현\n",
    "\n",
    "def ins_sort(x):\n",
    "    n = len(x)\n",
    "    for i in range(1,n):\n",
    "        value = x[i]\n",
    "        j = i - 1\n",
    "        while j >= 0 and value < x[j]:\n",
    "            x[j+1] = x[j]\n",
    "            j -= 1\n",
    "        x[j+1] = value\n",
    "        \n",
    "    return x"
   ]
  },
  {
   "cell_type": "code",
   "execution_count": 13,
   "metadata": {},
   "outputs": [
    {
     "name": "stdout",
     "output_type": "stream",
     "text": [
      "[1, 2, 3, 4, 5]\n"
     ]
    }
   ],
   "source": [
    "ins_sort(d)\n",
    "\n",
    "print(d)"
   ]
  },
  {
   "cell_type": "code",
   "execution_count": 14,
   "metadata": {},
   "outputs": [],
   "source": [
    "# 9-2. 9-1 알고리즘을 내림차순으로 변경 구현\n",
    "\n",
    "def ins_sort(x):\n",
    "    n = len(x)\n",
    "    for i in range(1,n):\n",
    "        value = x[i]\n",
    "        j = i - 1\n",
    "        while j >= 0 and value > x[j]:\n",
    "            x[j+1] = x[j]\n",
    "            j -= 1\n",
    "        x[j+1] = value\n",
    "        \n",
    "    return x"
   ]
  },
  {
   "cell_type": "code",
   "execution_count": 15,
   "metadata": {},
   "outputs": [
    {
     "name": "stdout",
     "output_type": "stream",
     "text": [
      "[5, 4, 3, 2, 1]\n"
     ]
    }
   ],
   "source": [
    "ins_sort(d)\n",
    "\n",
    "print(d)"
   ]
  },
  {
   "cell_type": "code",
   "execution_count": null,
   "metadata": {},
   "outputs": [],
   "source": []
  }
 ],
 "metadata": {
  "kernelspec": {
   "display_name": "Python 3",
   "language": "python",
   "name": "python3"
  },
  "language_info": {
   "codemirror_mode": {
    "name": "ipython",
    "version": 3
   },
   "file_extension": ".py",
   "mimetype": "text/x-python",
   "name": "python",
   "nbconvert_exporter": "python",
   "pygments_lexer": "ipython3",
   "version": "3.7.6"
  }
 },
 "nbformat": 4,
 "nbformat_minor": 4
}
