{
 "cells": [
  {
   "cell_type": "markdown",
   "metadata": {},
   "source": [
    "### 병합 정렬\n",
    "\n",
    "재귀 호출을 사용하는 정렬 방법"
   ]
  },
  {
   "cell_type": "code",
   "execution_count": 1,
   "metadata": {},
   "outputs": [],
   "source": [
    "# 쉽게 정리한 병합 정렬 알고리즘\n",
    "\n",
    "def merge_sort(x):\n",
    "    n = len(x)\n",
    "    if n <= 1:\n",
    "        return x\n",
    "    mid = n//2\n",
    "    group_1 = merge_sort(x[:mid])\n",
    "    group_2 = merge_sort(x[mid:])\n",
    "    \n",
    "    result = []\n",
    "    \n",
    "    while group_1 and group_2:\n",
    "        if group_1[0] > group_2[0]:\n",
    "            result.append(group_2.pop(0))\n",
    "        else:\n",
    "            result.append(group_1.pop(0))\n",
    "    \n",
    "    while group_1:\n",
    "        result.append(group_1.pop(0))\n",
    "    while group_2:\n",
    "        result.append(group_2.pop(0))\n",
    "        \n",
    "    return result"
   ]
  },
  {
   "cell_type": "code",
   "execution_count": 2,
   "metadata": {},
   "outputs": [],
   "source": [
    "v = [6,8,3,9,10,1,2,4,7,5]"
   ]
  },
  {
   "cell_type": "code",
   "execution_count": 3,
   "metadata": {},
   "outputs": [
    {
     "data": {
      "text/plain": [
       "[1, 2, 3, 4, 5, 6, 7, 8, 9, 10]"
      ]
     },
     "execution_count": 3,
     "metadata": {},
     "output_type": "execute_result"
    }
   ],
   "source": [
    "merge_sort(v)"
   ]
  },
  {
   "cell_type": "code",
   "execution_count": 8,
   "metadata": {},
   "outputs": [],
   "source": [
    "# 일반적인 병합 정렬 알고리즘\n",
    "\n",
    "def merge_sort(x):\n",
    "    n = len(x)\n",
    "    if n <= 1:\n",
    "        return x\n",
    "    \n",
    "    mid = n // 2\n",
    "    g1 = x[:mid]\n",
    "    g2 = x[mid:]\n",
    "    \n",
    "    merge_sort(g1)\n",
    "    merge_sort(g2)\n",
    "    \n",
    "    i1 = 0\n",
    "    i2 = 0\n",
    "    ix = 0\n",
    "    \n",
    "    while i1 < len(g1) and i2 < len(g2):\n",
    "        if g1[i1] < g2[i2]:\n",
    "            x[ix] = g1[i1]\n",
    "            ix += 1\n",
    "            i1 += 1\n",
    "        else:\n",
    "            x[ix] = g2[i2]\n",
    "            ix += 1\n",
    "            i2 += 1\n",
    "            \n",
    "    while i1<len(g1):\n",
    "        x[ix] = g1[i1]\n",
    "        i1 += 1\n",
    "        ix += 1\n",
    "    while i2 < len(g2):\n",
    "        x[ix] = g2[i2]\n",
    "        i2 += 1\n",
    "        ix += 1"
   ]
  },
  {
   "cell_type": "code",
   "execution_count": 11,
   "metadata": {},
   "outputs": [],
   "source": [
    "d = [6,8,3,9,10,1,2,4,7,5]\n",
    "\n",
    "merge_sort(d)"
   ]
  },
  {
   "cell_type": "code",
   "execution_count": 12,
   "metadata": {},
   "outputs": [
    {
     "data": {
      "text/plain": [
       "[1, 2, 3, 4, 5, 6, 7, 8, 9, 10]"
      ]
     },
     "execution_count": 12,
     "metadata": {},
     "output_type": "execute_result"
    }
   ],
   "source": [
    "d"
   ]
  },
  {
   "cell_type": "markdown",
   "metadata": {},
   "source": [
    "### 알고리즘 분석\n",
    "\n",
    "병합 정렬은 '분할 정복' 알고리즘 설계 기법을 사용해 구현한 정렬\n",
    "\n",
    "분할 정복이란 입력의 크기를 잘게 나누어 굉장히 쉬운 문제로 문제를 변환하는 알고리즘"
   ]
  },
  {
   "cell_type": "code",
   "execution_count": null,
   "metadata": {},
   "outputs": [],
   "source": []
  }
 ],
 "metadata": {
  "kernelspec": {
   "display_name": "Python 3",
   "language": "python",
   "name": "python3"
  },
  "language_info": {
   "codemirror_mode": {
    "name": "ipython",
    "version": 3
   },
   "file_extension": ".py",
   "mimetype": "text/x-python",
   "name": "python",
   "nbconvert_exporter": "python",
   "pygments_lexer": "ipython3",
   "version": "3.7.6"
  }
 },
 "nbformat": 4,
 "nbformat_minor": 4
}
