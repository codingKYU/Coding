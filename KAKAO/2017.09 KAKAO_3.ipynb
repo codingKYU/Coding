{
 "cells": [
  {
   "cell_type": "markdown",
   "metadata": {},
   "source": [
    "# 캐시(LRU 알고리즘을 사용)"
   ]
  },
  {
   "cell_type": "code",
   "execution_count": 21,
   "metadata": {},
   "outputs": [
    {
     "name": "stdout",
     "output_type": "stream",
     "text": [
      "실행시간 : 25 초\n"
     ]
    },
    {
     "ename": "SystemExit",
     "evalue": "",
     "output_type": "error",
     "traceback": [
      "An exception has occurred, use %tb to see the full traceback.\n",
      "\u001b[1;31mSystemExit\u001b[0m\n"
     ]
    }
   ],
   "source": [
    "import sys\n",
    "\n",
    "cacheSize = 0\n",
    "reference = ['Jeju', 'Pangyo', 'Seoul', 'NewYork', 'LA']\n",
    "cities = []\n",
    "for ref in reference:\n",
    "    cities.append(ref.lower())\n",
    "cache = []\n",
    "simulation_time = 0\n",
    "\n",
    "if cacheSize == 0:\n",
    "    simulation_time = len(cities) * 5\n",
    "    print('실행시간 :',simulation_time,'초')\n",
    "    sys.exit()\n",
    "    \n",
    "#LRU 알고리즘 \n",
    "for city in cities:\n",
    "    if not city in cache:\n",
    "        if len(cache) < cacheSize:\n",
    "            cache.append(city)\n",
    "            simulation_time += 5\n",
    "        else:\n",
    "            cache.pop(0)\n",
    "            cache.append(city)\n",
    "            simulation_time += 5\n",
    "    \n",
    "    else:\n",
    "        cache.pop(cache.index(city))\n",
    "        cache.append(city)\n",
    "        simulation_time += 1\n",
    "    \n",
    "print('실행시간 :',simulation_time,'초')"
   ]
  },
  {
   "cell_type": "code",
   "execution_count": null,
   "metadata": {},
   "outputs": [],
   "source": []
  }
 ],
 "metadata": {
  "kernelspec": {
   "display_name": "Python 3",
   "language": "python",
   "name": "python3"
  },
  "language_info": {
   "codemirror_mode": {
    "name": "ipython",
    "version": 3
   },
   "file_extension": ".py",
   "mimetype": "text/x-python",
   "name": "python",
   "nbconvert_exporter": "python",
   "pygments_lexer": "ipython3",
   "version": "3.7.6"
  }
 },
 "nbformat": 4,
 "nbformat_minor": 4
}
