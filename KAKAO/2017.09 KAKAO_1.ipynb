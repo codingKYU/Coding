{
 "cells": [
  {
   "cell_type": "markdown",
   "metadata": {},
   "source": [
    "# 2017.09 카카오 코딩테스트 1번"
   ]
  },
  {
   "cell_type": "code",
   "execution_count": 38,
   "metadata": {},
   "outputs": [],
   "source": [
    "n = 5\n",
    "arr1 = [9,20,28,18,11]\n",
    "arr2 = [30,1,21,17,28]"
   ]
  },
  {
   "cell_type": "code",
   "execution_count": 39,
   "metadata": {},
   "outputs": [],
   "source": [
    "def to_binary(num,n):\n",
    "    a = format(num , 'b')\n",
    "    q = str(a)\n",
    "    w = q.zfill(n)\n",
    "    c = list(w)\n",
    "    \n",
    "    return c"
   ]
  },
  {
   "cell_type": "code",
   "execution_count": 40,
   "metadata": {},
   "outputs": [],
   "source": [
    "def encoding(k):\n",
    "    for i in range(len(k)):\n",
    "        if k[i] == '1':\n",
    "            k[i] = '#'\n",
    "        elif k[i] == '0':\n",
    "            k[i] = ' '\n",
    "        \n",
    "    return k"
   ]
  },
  {
   "cell_type": "code",
   "execution_count": 51,
   "metadata": {},
   "outputs": [],
   "source": [
    "arr3 = []\n",
    "\n",
    "for j in range(n):\n",
    "    bin_num1 = to_binary(arr1[j],n)\n",
    "    encode_num1 = encoding(bin_num1)\n",
    "    bin_num2 = to_binary(arr2[j],n)\n",
    "    encode_num2 = encoding(bin_num2)\n",
    "    arr = []\n",
    "    for i in range(n):\n",
    "        if encode_num1[i] == ' ' and encode_num2[i] == ' ':\n",
    "            arr.append(' ')\n",
    "        else:\n",
    "            arr.append('#')\n",
    "    arr3.append(str(arr))"
   ]
  },
  {
   "cell_type": "code",
   "execution_count": 54,
   "metadata": {},
   "outputs": [
    {
     "data": {
      "text/plain": [
       "[\"['#', '#', '#', '#', '#']\",\n",
       " \"['#', ' ', '#', ' ', '#']\",\n",
       " \"['#', '#', '#', ' ', '#']\",\n",
       " \"['#', ' ', ' ', '#', '#']\",\n",
       " \"['#', '#', '#', '#', '#']\"]"
      ]
     },
     "execution_count": 54,
     "metadata": {},
     "output_type": "execute_result"
    }
   ],
   "source": [
    "arr3"
   ]
  },
  {
   "cell_type": "code",
   "execution_count": null,
   "metadata": {},
   "outputs": [],
   "source": []
  }
 ],
 "metadata": {
  "kernelspec": {
   "display_name": "Python 3",
   "language": "python",
   "name": "python3"
  },
  "language_info": {
   "codemirror_mode": {
    "name": "ipython",
    "version": 3
   },
   "file_extension": ".py",
   "mimetype": "text/x-python",
   "name": "python",
   "nbconvert_exporter": "python",
   "pygments_lexer": "ipython3",
   "version": "3.7.6"
  }
 },
 "nbformat": 4,
 "nbformat_minor": 4
}
