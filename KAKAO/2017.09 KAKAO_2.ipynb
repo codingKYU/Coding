{
 "cells": [
  {
   "cell_type": "code",
   "execution_count": null,
   "metadata": {},
   "outputs": [],
   "source": [
    "# default_input = 1S 2DQ 3T 라고 생각\n",
    "\n",
    "class bonus:\n",
    "    def __init__(self,first):\n",
    "        self.first = first\n",
    "    def S(self):\n",
    "        result = self.first ** 1\n",
    "        return result\n",
    "    def D(self):\n",
    "        result = self.first ** 2\n",
    "        return result\n",
    "    def T(self):\n",
    "        result = self.first ** 3\n",
    "        return result\n",
    "    \n",
    "class option:\n",
    "    def __init__(self,first,second):\n",
    "        self.first = first\n",
    "        self.second = second\n",
    "    def Q(self):\n",
    "        result1 = self.first * 2\n",
    "        result2 = self.second * 2\n",
    "        result = result1 + result2\n",
    "        return result\n",
    "    def W(self):\n",
    "        result1 = self.first * (-1)\n",
    "        result2 = self.second * (-1)\n",
    "        result = result1 + result2\n",
    "        return result"
   ]
  },
  {
   "cell_type": "code",
   "execution_count": null,
   "metadata": {},
   "outputs": [],
   "source": [
    "option(bonus(1).S(),bonus(2).D()).Q() + bonus(3).T()"
   ]
  },
  {
   "cell_type": "code",
   "execution_count": null,
   "metadata": {},
   "outputs": [],
   "source": [
    "input = [1,'S',2,'D','*',3,'T']\n",
    "split_index = intput[input.dtype == int].index \n",
    "reusult = 0\n",
    "for i in input:\n",
    "    if i.dtype == int:\n",
    "        result = result + i\n",
    "    if i == 'S':\n",
    "        result = result ** 1\n",
    "    if i == 'D':\n",
    "        result = result ** 2\n",
    "    if i == 'T':\n",
    "        result = result ** 3\n",
    "    "
   ]
  },
  {
   "cell_type": "code",
   "execution_count": null,
   "metadata": {},
   "outputs": [],
   "source": [
    "input = [1,'S',2,'D','*',3,'T']\n",
    "for i in range(len(input)):\n",
    "    split_index = input[input[i] == int].index "
   ]
  },
  {
   "cell_type": "code",
   "execution_count": null,
   "metadata": {},
   "outputs": [],
   "source": [
    "# 총 세번의 기회가 주어진다  --> 3개의 문자열로 나눈다. (정수기준)\n",
    "\n",
    "#res1, res2, res3\n",
    "\n",
    "if '*' or '#' in input1:\n",
    "    def res1([a,b,c]):\n",
    "        if b == 'S':\n",
    "            result = a ** 1\n",
    "        if b == 'D':\n",
    "            result = a ** 2\n",
    "        if b == 'T':\n",
    "            result = a ** 3\n",
    "    \n",
    "        if c == '*':\n",
    "            result = result * 2\n",
    "        if c == '#':\n",
    "            result = result * (-1)\n",
    "\n",
    "        return result\n",
    "\n",
    "else:\n",
    "    def res1([a,b]):\n",
    "        if b == 'S':\n",
    "            result = a ** 1\n",
    "        if b == 'D':\n",
    "            result = a ** 2\n",
    "        if b == 'T':\n",
    "            result = a ** 3\n",
    "\n",
    "        return result"
   ]
  },
  {
   "cell_type": "code",
   "execution_count": null,
   "metadata": {},
   "outputs": [],
   "source": [
    "input1 = [1,'S']\n",
    "res1(1,'S')"
   ]
  },
  {
   "cell_type": "code",
   "execution_count": 32,
   "metadata": {},
   "outputs": [],
   "source": [
    "\n",
    "input = '1S*2T*3S'\n",
    "#input = '1S2D*3T'\n",
    "#숫자를 기준으로 나누기\n",
    "\n",
    "input = list(input)\n",
    "k = []\n",
    "\n",
    "if '0' in input:\n",
    "    k.append(input.index('0'))\n",
    "\n",
    "if '1' in input:\n",
    "    k.append(input.index('1'))\n",
    "\n",
    "if '2' in input:\n",
    "    k.append(input.index('2'))\n",
    "\n",
    "if '3' in input:\n",
    "    k.append(input.index('3'))\n",
    "\n",
    "if '4' in input:\n",
    "    k.append(input.index('4'))\n",
    "\n",
    "if '5' in input:\n",
    "    k.append(input.index('5'))\n",
    "\n",
    "if '6' in input:\n",
    "    k.append(input.index('6'))\n",
    "\n",
    "if '7' in input:\n",
    "    k.append(input.index('7'))\n",
    "\n",
    "if '8' in input:\n",
    "    k.append(input.index('8'))\n",
    "\n",
    "if '9' in input:\n",
    "    k.append(input.index('9'))\n",
    "\n",
    "if '10' in input:\n",
    "    k.append(input.index('10'))\n",
    "\n",
    "k = sorted(k)\n",
    "[x,y,z] = k\n",
    "        \n",
    "splited_input = []\n",
    "splited_input.append(input[:y])\n",
    "splited_input.append(input[y:z])\n",
    "splited_input.append(input[z:])\n",
    "\n",
    "a = [0,0,0]\n",
    "\n",
    "for j in range(3):\n",
    "    for i in splited_input[j]:\n",
    "        if i == '0':\n",
    "            a[j] = 0\n",
    "            continue\n",
    "        elif i == '1':\n",
    "            a[j] = 1\n",
    "            continue\n",
    "        elif i == '2':\n",
    "            a[j] = 2\n",
    "            continue\n",
    "        elif i == '3':\n",
    "            a[j] = 3\n",
    "            continue\n",
    "        elif i == '4':\n",
    "            a[j] = 4\n",
    "            continue\n",
    "        elif i == '5':\n",
    "            a[j] = 5\n",
    "            continue\n",
    "        elif i == '6':\n",
    "            a[j] = 6\n",
    "            continue\n",
    "        elif i == '7':\n",
    "            a[j] = 7\n",
    "            continue\n",
    "        elif i == '8':\n",
    "            a[j] = 8\n",
    "            continue\n",
    "        elif i == '9':\n",
    "            a[j] = 9\n",
    "            continue\n",
    "        elif i == '10':\n",
    "            a[j] = 10\n",
    "            continue\n",
    "\n",
    "        elif i == 'S':\n",
    "            a[j] = a[j] ** 1\n",
    "            continue\n",
    "        elif i == 'D':\n",
    "            a[j] = a[j] ** 2\n",
    "            continue\n",
    "        elif i == 'T':\n",
    "            a[j] = a[j] ** 3\n",
    "            continue\n",
    "        \n",
    "        elif i == '*':\n",
    "            if j == 0:\n",
    "                a[j] = a[j] * 2 \n",
    "                continue\n",
    "            else:\n",
    "                a[j-1] =a[j-1] * 2\n",
    "                a[j] = a[j] * 2\n",
    "                continue\n",
    "        elif i =='#':\n",
    "            a[j] = a[j] * (-1)\n",
    "            continue\n",
    "        \n",
    "result = a[0] + a[1] + a[2]\n",
    "\n",
    "\n"
   ]
  },
  {
   "cell_type": "code",
   "execution_count": 33,
   "metadata": {},
   "outputs": [
    {
     "data": {
      "text/plain": [
       "4"
      ]
     },
     "execution_count": 33,
     "metadata": {},
     "output_type": "execute_result"
    }
   ],
   "source": [
    "a[0]"
   ]
  },
  {
   "cell_type": "code",
   "execution_count": 34,
   "metadata": {},
   "outputs": [
    {
     "data": {
      "text/plain": [
       "[0, 3, 6]"
      ]
     },
     "execution_count": 34,
     "metadata": {},
     "output_type": "execute_result"
    }
   ],
   "source": [
    "k"
   ]
  },
  {
   "cell_type": "code",
   "execution_count": 35,
   "metadata": {},
   "outputs": [
    {
     "data": {
      "text/plain": [
       "23"
      ]
     },
     "execution_count": 35,
     "metadata": {},
     "output_type": "execute_result"
    }
   ],
   "source": [
    "result"
   ]
  },
  {
   "cell_type": "code",
   "execution_count": 20,
   "metadata": {},
   "outputs": [
    {
     "data": {
      "text/plain": [
       "[6, 0, 2, 1, 1]"
      ]
     },
     "execution_count": 20,
     "metadata": {},
     "output_type": "execute_result"
    }
   ],
   "source": [
    "k.append(1)\n",
    "\n",
    "k"
   ]
  },
  {
   "cell_type": "code",
   "execution_count": null,
   "metadata": {},
   "outputs": [],
   "source": [
    "input1 = [1,S], input2 = [2,D,*], input3 = [3,T]\n",
    "\n",
    "res1 = 1 ** 1\n",
    "\n",
    "res2 = 2 ** 2 *2\n",
    "res1 = res1 *2\n",
    "\n",
    "res3 = 3 ** 3\n",
    "\n",
    "a = ['1','2','3','d']\n",
    "\n",
    "for i in a:\n",
    "    print(type(int(i)))"
   ]
  },
  {
   "cell_type": "code",
   "execution_count": null,
   "metadata": {},
   "outputs": [],
   "source": [
    "input = '1S2D*3T'\n",
    "input = list(input)"
   ]
  },
  {
   "cell_type": "code",
   "execution_count": null,
   "metadata": {},
   "outputs": [],
   "source": [
    "a = 3"
   ]
  },
  {
   "cell_type": "code",
   "execution_count": null,
   "metadata": {},
   "outputs": [],
   "source": [
    "if '2' in input:\n",
    "    a =input.index('5')"
   ]
  },
  {
   "cell_type": "code",
   "execution_count": null,
   "metadata": {},
   "outputs": [],
   "source": [
    "a"
   ]
  },
  {
   "cell_type": "code",
   "execution_count": null,
   "metadata": {},
   "outputs": [],
   "source": [
    "for i in input:\n",
    "    if i == '1':\n",
    "        print('true')\n",
    "    else:\n",
    "        print('false')"
   ]
  },
  {
   "cell_type": "code",
   "execution_count": null,
   "metadata": {},
   "outputs": [],
   "source": [
    "a = [1,0,0,0,1,0,1]"
   ]
  },
  {
   "cell_type": "code",
   "execution_count": null,
   "metadata": {},
   "outputs": [],
   "source": [
    "a.index(0)"
   ]
  },
  {
   "cell_type": "code",
   "execution_count": null,
   "metadata": {},
   "outputs": [],
   "source": [
    "input = '1S2D*3T'\n",
    "#숫자를 기준으로 나누기\n",
    "\n",
    "input = list(input)\n",
    "\n",
    "k = []\n",
    "\n",
    "if '0' in input:\n",
    "    k.append(input.index('0'))\n",
    "\n",
    "if '1' in input:\n",
    "    k.append(input.index('1'))\n",
    "\n",
    "if '2' in input:\n",
    "    k.append(input.index('2'))\n",
    "\n",
    "if '3' in input:\n",
    "    k.append(input.index('3'))\n",
    " \n",
    "if '4' in input:\n",
    "    k.append(input.index('4'))\n",
    "\n",
    "if '5' in input:\n",
    "    k.append(input.index('5'))\n",
    "\n",
    "if '6' in input:\n",
    "    k.append(input.index('6'))\n",
    "\n",
    "if '7' in input:\n",
    "    k.append(input.index('7'))\n",
    "\n",
    "if '8' in input:\n",
    "    k.append(input.index('8'))\n",
    "\n",
    "if '9' in input:\n",
    "    k.append(input.index('9'))\n",
    "\n",
    "if '10' in input:\n",
    "    k.append(input.index('10'))\n",
    "\n"
   ]
  },
  {
   "cell_type": "code",
   "execution_count": 36,
   "metadata": {},
   "outputs": [
    {
     "data": {
      "text/plain": [
       "['1', 'D', '2', 'S', '#', '1', '0', 'S']"
      ]
     },
     "execution_count": 36,
     "metadata": {},
     "output_type": "execute_result"
    }
   ],
   "source": [
    "input = '1D2S#10S'\n",
    "#숫자를 기준으로 나누기\n",
    "\n",
    "input = list(input)\n",
    "input"
   ]
  },
  {
   "cell_type": "code",
   "execution_count": 38,
   "metadata": {},
   "outputs": [
    {
     "data": {
      "text/plain": [
       "('1', True)"
      ]
     },
     "execution_count": 38,
     "metadata": {},
     "output_type": "execute_result"
    }
   ],
   "source": [
    "'1','0' in input"
   ]
  },
  {
   "cell_type": "code",
   "execution_count": null,
   "metadata": {},
   "outputs": [],
   "source": [
    "y"
   ]
  },
  {
   "cell_type": "code",
   "execution_count": null,
   "metadata": {},
   "outputs": [],
   "source": [
    "z"
   ]
  },
  {
   "cell_type": "code",
   "execution_count": null,
   "metadata": {},
   "outputs": [],
   "source": [
    "y.append(1)"
   ]
  },
  {
   "cell_type": "code",
   "execution_count": null,
   "metadata": {},
   "outputs": [],
   "source": []
  },
  {
   "cell_type": "code",
   "execution_count": null,
   "metadata": {},
   "outputs": [],
   "source": [
    "y"
   ]
  },
  {
   "cell_type": "code",
   "execution_count": null,
   "metadata": {},
   "outputs": [],
   "source": [
    "input"
   ]
  },
  {
   "cell_type": "code",
   "execution_count": null,
   "metadata": {},
   "outputs": [],
   "source": [
    "'1' in input"
   ]
  },
  {
   "cell_type": "code",
   "execution_count": null,
   "metadata": {},
   "outputs": [],
   "source": [
    "if '1' in input:\n",
    "    k.append(1)"
   ]
  },
  {
   "cell_type": "code",
   "execution_count": null,
   "metadata": {},
   "outputs": [],
   "source": [
    "k"
   ]
  },
  {
   "cell_type": "code",
   "execution_count": null,
   "metadata": {},
   "outputs": [],
   "source": []
  }
 ],
 "metadata": {
  "kernelspec": {
   "display_name": "Python 3",
   "language": "python",
   "name": "python3"
  },
  "language_info": {
   "codemirror_mode": {
    "name": "ipython",
    "version": 3
   },
   "file_extension": ".py",
   "mimetype": "text/x-python",
   "name": "python",
   "nbconvert_exporter": "python",
   "pygments_lexer": "ipython3",
   "version": "3.7.6"
  }
 },
 "nbformat": 4,
 "nbformat_minor": 4
}
