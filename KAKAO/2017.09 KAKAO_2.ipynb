{
 "cells": [
  {
   "cell_type": "code",
   "execution_count": 26,
   "metadata": {},
   "outputs": [],
   "source": [
    "\n",
    "input = '1D2S#10S'\n",
    "#input = '1S2D*3T'\n",
    "#숫자를 기준으로 나누기\n",
    "\n",
    "input = list(input)\n",
    "k = []\n",
    "\n",
    "for i in range(len(input) - 1):\n",
    "    if input[i] == '1' and input[i+1] == '0':\n",
    "        input[i] = '10'\n",
    "        del input[i+1]\n",
    "for i in input:\n",
    "    if i.isdigit() == True:\n",
    "        k.append(input.index(i))\n",
    "\n",
    "k = sorted(k)\n",
    "[x,y,z] = k\n",
    "        \n",
    "splited_input = []\n",
    "splited_input.append(input[:y])\n",
    "splited_input.append(input[y:z])\n",
    "splited_input.append(input[z:])\n",
    "\n",
    "a = [0,0,0]\n",
    "\n",
    "for j in range(3):\n",
    "    for i in splited_input[j]:\n",
    "        if i.isdigit() == True:\n",
    "            a[j] = int(i)\n",
    "        if i == 'S':\n",
    "            a[j] = a[j] ** 1\n",
    "        if i == 'D':\n",
    "            a[j] = a[j] ** 2\n",
    "        if i == 'T':\n",
    "            a[j] = a[j] ** 3\n",
    "        if i == '*':\n",
    "            if j == 0:\n",
    "                a[j] = a[j] * 2\n",
    "            else:\n",
    "                a[j-1] =a[j-1] * 2\n",
    "                a[j] = a[j] * 2\n",
    "        if i =='#':\n",
    "            a[j] = a[j] * (-1)\n",
    "            \n",
    "\n",
    "result = a[0] + a[1] + a[2]"
   ]
  }
 ],
 "metadata": {
  "kernelspec": {
   "display_name": "Python 3",
   "language": "python",
   "name": "python3"
  },
  "language_info": {
   "codemirror_mode": {
    "name": "ipython",
    "version": 3
   },
   "file_extension": ".py",
   "mimetype": "text/x-python",
   "name": "python",
   "nbconvert_exporter": "python",
   "pygments_lexer": "ipython3",
   "version": "3.7.6"
  }
 },
 "nbformat": 4,
 "nbformat_minor": 4
}
